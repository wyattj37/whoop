{
 "cells": [
  {
   "cell_type": "code",
   "execution_count": null,
   "metadata": {
    "id": "Nw5CI-2aitaB"
   },
   "outputs": [],
   "source": [
    "import pandas as pd\n",
    "import numpy as np\n",
    "from sklearn.linear_model import LinearRegression\n",
    "from sklearn.model_selection import train_test_split\n",
    "from sklearn.metrics import mean_squared_error\n",
    "from sklearn.ensemble import GradientBoostingRegressor\n",
    "from sklearn.model_selection import GridSearchCV\n",
    "from sklearn.linear_model import Ridge\n",
    "from sklearn.linear_model import Lasso\n",
    "from sklearn.svm import SVR\n",
    "from sklearn.inspection import permutation_importance"
   ]
  },
  {
   "cell_type": "code",
   "execution_count": null,
   "metadata": {
    "id": "n9SkNU9wjIqc"
   },
   "outputs": [],
   "source": [
    "# whoop_data_filepath = put filepath to \"physiological_cycles.csv\" from whoop export here\n",
    "df = pd.read_csv(whoop_data_filepath)"
   ]
  },
  {
   "cell_type": "code",
   "execution_count": null,
   "metadata": {
    "colab": {
     "base_uri": "https://localhost:8080/",
     "height": 481
    },
    "id": "JuT8rO0FjNPW",
    "outputId": "1d5eede1-095f-4a70-f0ca-2d36b9e8c447"
   },
   "outputs": [],
   "source": [
    "df.head()"
   ]
  },
  {
   "cell_type": "code",
   "execution_count": null,
   "metadata": {
    "id": "s-doIWv8jN7M"
   },
   "outputs": [],
   "source": [
    "# Define some functions to normalize either by mean or min-max\n",
    "def normalize_by_mean(df, column):\n",
    "    mean_value = df[column].mean()\n",
    "    df[column] = (df[column] - mean_value) / (df[column].max() - df[column].min())\n",
    "    return df\n",
    "\n",
    "def normalize_min_max(df, column):\n",
    "    df[column] = 2 * (df[column] - df[column].min()) / (df[column].max() - df[column].min()) - 1\n",
    "    return df"
   ]
  },
  {
   "cell_type": "code",
   "execution_count": null,
   "metadata": {
    "id": "Dxw-XAZejiN0"
   },
   "outputs": [],
   "source": [
    "# Features that are unlikely to impact recover\n",
    "cols_to_drop = ['Cycle start time', 'Cycle end time', 'Cycle timezone', 'Sleep onset', 'Wake onset']\n",
    "df = df.drop(cols_to_drop, axis=1)"
   ]
  },
  {
   "cell_type": "code",
   "execution_count": null,
   "metadata": {
    "id": "o5Av6eYPoOsw"
   },
   "outputs": [],
   "source": [
    "# Removing recovery score\n",
    "df = df.dropna()\n",
    "recovery = df['Recovery score %']\n",
    "df = df.drop('Recovery score %', axis=1)"
   ]
  },
  {
   "cell_type": "code",
   "execution_count": null,
   "metadata": {
    "id": "54C1J07l0IXs"
   },
   "outputs": [],
   "source": [
    "# Choose which columns might make sense to normalize by mean\n",
    "cols_to_norm_mean = ['Resting heart rate (bpm)', 'Heart rate variability (ms)', 'Energy burned (cal)', 'Max HR (bpm)', 'Respiratory rate (rpm)']\n",
    "other_cols = [col for col in df.columns.tolist() if col not in cols_to_norm_mean]"
   ]
  },
  {
   "cell_type": "code",
   "execution_count": null,
   "metadata": {
    "id": "dvM1vhbgkpLN"
   },
   "outputs": [],
   "source": [
    "for col in cols_to_norm_mean:\n",
    "  df = normalize_by_mean(df, col)\n",
    "for col in other_cols:\n",
    "  df = normalize_min_max(df, col)"
   ]
  },
  {
   "cell_type": "code",
   "execution_count": null,
   "metadata": {
    "colab": {
     "base_uri": "https://localhost:8080/"
    },
    "id": "JwF04Vq8llMK",
    "outputId": "be8f8bca-8dba-42a8-ed2e-c178b284b2be"
   },
   "outputs": [],
   "source": [
    "df.shape"
   ]
  },
  {
   "cell_type": "code",
   "execution_count": null,
   "metadata": {
    "id": "C4iE87ewi_8W"
   },
   "outputs": [],
   "source": [
    "# Split data\n",
    "X_train, X_test, y_train, y_test = train_test_split(df, recovery, test_size=0.3, random_state=15)"
   ]
  },
  {
   "cell_type": "code",
   "execution_count": null,
   "metadata": {
    "colab": {
     "base_uri": "https://localhost:8080/"
    },
    "id": "2QSOKd5XndUh",
    "outputId": "5157c812-34db-486a-aa32-1fb283e729e1"
   },
   "outputs": [],
   "source": [
    "# Linear model, L1\n",
    "linear_model = Lasso(alpha=.5)\n",
    "\n",
    "linear_model.fit(X_train, y_train)\n",
    "\n",
    "y_pred_linear = linear_model.predict(X_test)\n",
    "\n",
    "mse_linear = mean_squared_error(y_test, y_pred_linear)\n",
    "print(f\"Linear Regression Mean Squared Error: {mse_linear}\")"
   ]
  },
  {
   "cell_type": "code",
   "execution_count": null,
   "metadata": {
    "id": "BdXwnxSxnqXb"
   },
   "outputs": [],
   "source": [
    "# Create df to compare the actual with predicted\n",
    "results_linear = pd.DataFrame({'Actual': y_test, 'Predicted': y_pred_linear, 'Difference': y_pred_linear - y_test})"
   ]
  },
  {
   "cell_type": "code",
   "execution_count": null,
   "metadata": {
    "colab": {
     "base_uri": "https://localhost:8080/",
     "height": 1000
    },
    "id": "VJp8VnINohhy",
    "outputId": "22f7e417-0b96-4a54-cbea-9981addea464"
   },
   "outputs": [],
   "source": [
    "results_linear"
   ]
  },
  {
   "cell_type": "code",
   "execution_count": null,
   "metadata": {
    "colab": {
     "base_uri": "https://localhost:8080/"
    },
    "id": "xx2q2sppotXx",
    "outputId": "fb106e3d-5176-491d-eabe-f6f9d4696ec8"
   },
   "outputs": [],
   "source": [
    "# Analyze the coefficients of the linear model\n",
    "coefficients = linear_model.coef_\n",
    "intercept = linear_model.intercept_\n",
    "\n",
    "print(\"Intercept:\", intercept)\n",
    "print(\"Coefficients:\")\n",
    "for feature, coef in zip(df.columns, coefficients):\n",
    "    print(feature, ':', coef)"
   ]
  },
  {
   "cell_type": "code",
   "execution_count": null,
   "metadata": {
    "colab": {
     "base_uri": "https://localhost:8080/"
    },
    "id": "NooRD7ikoveq",
    "outputId": "b74e3949-5799-4916-92e5-ae00a955f267"
   },
   "outputs": [],
   "source": [
    "# Same thing using GBM model\n",
    "gbm_model = GradientBoostingRegressor()\n",
    "\n",
    "gbm_model.fit(X_train, y_train)\n",
    "\n",
    "y_pred_gbm = gbm_model.predict(X_test)\n",
    "\n",
    "mse_gbm = mean_squared_error(y_test, y_pred_gbm)\n",
    "print(f\"Gradient Boosting Machine Mean Squared Error: {mse_gbm}\")"
   ]
  },
  {
   "cell_type": "code",
   "execution_count": null,
   "metadata": {
    "id": "OJdNLmCUphAW"
   },
   "outputs": [],
   "source": [
    "# Create df to compare the results\n",
    "results_gbm = pd.DataFrame({'Actual': y_test, 'Predicted': y_pred_gbm, 'Difference': y_pred_gbm-y_test})"
   ]
  },
  {
   "cell_type": "code",
   "execution_count": null,
   "metadata": {
    "colab": {
     "base_uri": "https://localhost:8080/",
     "height": 1000
    },
    "id": "VRLTtYZSq4P_",
    "outputId": "767b165f-2131-4af3-b457-a3499e84ae3f"
   },
   "outputs": [],
   "source": [
    "results_gbm"
   ]
  },
  {
   "cell_type": "code",
   "execution_count": null,
   "metadata": {
    "colab": {
     "base_uri": "https://localhost:8080/"
    },
    "id": "23z9CoTor4UB",
    "outputId": "331c8bc7-e004-4e45-944b-94161edb4e7d"
   },
   "outputs": [],
   "source": [
    "# Create a df for the feature importance\n",
    "feature_importance = pd.DataFrame({'Feature': X_train.columns, 'Importance': gbm_model.feature_importances_})\n",
    "feature_importance = feature_importance.sort_values(by='Importance', ascending=False)\n",
    "\n",
    "print(\"Feature Importance:\")\n",
    "print(feature_importance)"
   ]
  },
  {
   "cell_type": "code",
   "execution_count": null,
   "metadata": {
    "colab": {
     "base_uri": "https://localhost:8080/"
    },
    "id": "9U0YbQf_ss4l",
    "outputId": "9a426e07-8ebb-4ac3-da85-ce3e7c937671"
   },
   "outputs": [],
   "source": [
    "# SVR model\n",
    "svr_model = SVR(kernel='rbf', C=1.0, epsilon=0.1)\n",
    "\n",
    "svr_model.fit(X_train, y_train)\n",
    "\n",
    "y_pred_svr = gbm_model.predict(X_test)\n",
    "\n",
    "mse_svr = mean_squared_error(y_test, y_pred_svr)\n",
    "print(f\"SVR Mean Squared Error: {mse_svr}\")"
   ]
  },
  {
   "cell_type": "code",
   "execution_count": null,
   "metadata": {
    "id": "cQ1MvzeLv9NI"
   },
   "outputs": [],
   "source": [
    "results_svr = pd.DataFrame({'Actual': y_test, 'Predicted': y_pred_svr, 'Difference': y_pred_svr-y_test})"
   ]
  },
  {
   "cell_type": "code",
   "execution_count": null,
   "metadata": {
    "colab": {
     "base_uri": "https://localhost:8080/",
     "height": 1000
    },
    "id": "EJXETJzowH3w",
    "outputId": "07b04ecf-9001-4972-afac-a652073a4a76"
   },
   "outputs": [],
   "source": [
    "results_svr"
   ]
  },
  {
   "cell_type": "code",
   "execution_count": null,
   "metadata": {
    "colab": {
     "base_uri": "https://localhost:8080/",
     "height": 676
    },
    "id": "3_X71BoHwIuw",
    "outputId": "21c3d7be-1aff-475d-c342-f3cba63882d6"
   },
   "outputs": [],
   "source": [
    "# Permutation Importance - can be used with any of the three models\n",
    "result = permutation_importance(gbm_model, X_test, y_test, random_state=3)\n",
    "importance = result.importances_mean\n",
    "\n",
    "# Display permutation importance\n",
    "feature_importance = pd.DataFrame({'Feature': X_test.columns, 'Importance': importance})\n",
    "feature_importance = feature_importance.sort_values(by='Importance', ascending=False)\n",
    "\n",
    "# Display as %\n",
    "total = feature_importance['Importance'].abs().sum()\n",
    "feature_importance['% Importance'] = (feature_importance['Importance'].abs() / total) * 100\n",
    "feature_importance.sort_values(by='% Importance', ascending=False)"
   ]
  }
 ],
 "metadata": {
  "colab": {
   "provenance": []
  },
  "kernelspec": {
   "display_name": "Python 3 (ipykernel)",
   "language": "python",
   "name": "python3"
  },
  "language_info": {
   "codemirror_mode": {
    "name": "ipython",
    "version": 3
   },
   "file_extension": ".py",
   "mimetype": "text/x-python",
   "name": "python",
   "nbconvert_exporter": "python",
   "pygments_lexer": "ipython3",
   "version": "3.9.18"
  }
 },
 "nbformat": 4,
 "nbformat_minor": 1
}
